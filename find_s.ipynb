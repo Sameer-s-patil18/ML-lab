{
 "cells": [
  {
   "cell_type": "markdown",
   "metadata": {},
   "source": [
    "# implementing the find S algorithm"
   ]
  },
  {
   "cell_type": "code",
   "execution_count": 14,
   "metadata": {},
   "outputs": [
    {
     "name": "stdout",
     "output_type": "stream",
     "text": [
      "data:   sky\\tairTemp\\thumidity\\twind\\twater\\tforecast\\tenjoySport\n",
      "0       Sunny\\twarm\\tnormal\\tstrong\\twarm\\tsame\\tYes       \n",
      "1         Sunny\\twarm\\thigh\\tstrong\\twarm\\tsame\\tYes       \n",
      "2        Rainy\\tcold\\thigh\\tstrong\\twarm\\tchange\\tNo       \n",
      "3       Sunny\\twarm\\thigh\\tstrong\\tcool\\tchange\\tYes       \n",
      "Concepts: []\n",
      "Target: ['Sunny\\twarm\\tnormal\\tstrong\\twarm\\tsame\\tYes'\n",
      " 'Sunny\\twarm\\thigh\\tstrong\\twarm\\tsame\\tYes'\n",
      " 'Rainy\\tcold\\thigh\\tstrong\\twarm\\tchange\\tNo'\n",
      " 'Sunny\\twarm\\thigh\\tstrong\\tcool\\tchange\\tYes']\n",
      "Initial specific hypothesis: []\n",
      "Instance: []\n",
      "Instance: []\n",
      "Instance: []\n",
      "Instance: []\n",
      "Final Hypothesis: []\n"
     ]
    }
   ],
   "source": [
    "import numpy as np\n",
    "import pandas as pd\n",
    "\n",
    "# Load dataset\n",
    "data = pd.read_csv('train_set.csv')\n",
    "print('data:', data)\n",
    "\n",
    "def train_model(concepts, target):\n",
    "    specific_h = concepts[0].copy()  # Copy to avoid modifying original data\n",
    "    print(\"Initial specific hypothesis:\", specific_h)\n",
    "\n",
    "    for i, h in enumerate(concepts):\n",
    "        print(\"Instance:\", h)\n",
    "        if target[i] == 'Yes':  # Only consider positive examples\n",
    "            for x in range(len(specific_h)):\n",
    "                if h[x] != specific_h[x]:\n",
    "                    specific_h[x] = '?'  # Generalize different attributes\n",
    "\n",
    "    return specific_h\n",
    "\n",
    "# Extract features and target\n",
    "concepts = np.array(data.iloc[:, 0:-1])\n",
    "target = np.array(data.iloc[:, -1])\n",
    "\n",
    "print('Concepts:', concepts)\n",
    "print('Target:', target)\n",
    "\n",
    "# Train the model and print the final hypothesis\n",
    "print(\"Final Hypothesis:\", train_model(concepts, target))\n"
   ]
  },
  {
   "cell_type": "code",
   "execution_count": 16,
   "metadata": {},
   "outputs": [
    {
     "name": "stdout",
     "output_type": "stream",
     "text": [
      "data:     Outlook Temperature Humidity  Windy PlayTennis\n",
      "0     Sunny         Hot     High  False         No\n",
      "1     Sunny         Hot     High   True         No\n",
      "2  Overcast         Hot     High  False        Yes\n",
      "3      Rain        Cold     High  False        Yes\n",
      "4      Rain        Cold     High   True         No\n",
      "5  Overcast         Hot     High   True        Yes\n",
      "6     Sunny         Hot     High  False         No\n",
      "Concepts: [['Sunny' 'Hot' 'High' False]\n",
      " ['Sunny' 'Hot' 'High' True]\n",
      " ['Overcast' 'Hot' 'High' False]\n",
      " ['Rain' 'Cold' 'High' False]\n",
      " ['Rain' 'Cold' 'High' True]\n",
      " ['Overcast' 'Hot' 'High' True]\n",
      " ['Sunny' 'Hot' 'High' False]]\n",
      "Target: ['No' 'No' 'Yes' 'Yes' 'No' 'Yes' 'No']\n",
      "Initial specific hypothesis: ['Sunny' 'Hot' 'High' False]\n",
      "Instance: ['Sunny' 'Hot' 'High' False]\n",
      "Instance: ['Sunny' 'Hot' 'High' True]\n",
      "Instance: ['Overcast' 'Hot' 'High' False]\n",
      "Instance: ['Rain' 'Cold' 'High' False]\n",
      "Instance: ['Rain' 'Cold' 'High' True]\n",
      "Instance: ['Overcast' 'Hot' 'High' True]\n",
      "Instance: ['Sunny' 'Hot' 'High' False]\n",
      "Final Hypothesis: ['?' '?' 'High' '?']\n"
     ]
    }
   ],
   "source": [
    "import numpy as np\n",
    "import pandas as pd\n",
    "\n",
    "# Load dataset\n",
    "data = pd.read_csv('training_data.csv')\n",
    "print('data:', data)\n",
    "\n",
    "def train_model(concepts, target):\n",
    "    specific_h = concepts[0].copy()  # Copy to avoid modifying original data\n",
    "    print(\"Initial specific hypothesis:\", specific_h)\n",
    "\n",
    "    for i, h in enumerate(concepts):\n",
    "        print(\"Instance:\", h)\n",
    "        if target[i] == 'Yes':  # Only consider positive examples\n",
    "            for x in range(len(specific_h)):\n",
    "                if h[x] != specific_h[x]:\n",
    "                    specific_h[x] = '?'  # Generalize different attributes\n",
    "\n",
    "    return specific_h\n",
    "\n",
    "# Extract features and target\n",
    "concepts = np.array(data.iloc[:, 0:-1])\n",
    "target = np.array(data.iloc[:, -1])\n",
    "\n",
    "print('Concepts:', concepts)\n",
    "print('Target:', target)\n",
    "\n",
    "# Train the model and print the final hypothesis\n",
    "print(\"Final Hypothesis:\", train_model(concepts, target))\n"
   ]
  },
  {
   "cell_type": "code",
   "execution_count": null,
   "metadata": {},
   "outputs": [],
   "source": []
  }
 ],
 "metadata": {
  "kernelspec": {
   "display_name": "base",
   "language": "python",
   "name": "python3"
  },
  "language_info": {
   "codemirror_mode": {
    "name": "ipython",
    "version": 3
   },
   "file_extension": ".py",
   "mimetype": "text/x-python",
   "name": "python",
   "nbconvert_exporter": "python",
   "pygments_lexer": "ipython3",
   "version": "3.9.13"
  }
 },
 "nbformat": 4,
 "nbformat_minor": 2
}
